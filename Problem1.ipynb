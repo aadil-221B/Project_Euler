{
 "cells": [
  {
   "cell_type": "markdown",
   "id": "1db65cd5-8ce2-42c0-ba25-bae0a92067ae",
   "metadata": {},
   "source": [
    "# Project Euler Problem 1: Multiples of 3 and 5\r\n",
    "\r\n",
    "## Problem Statement\r\n",
    "If we list all the natural numbers below 10 that are multiples of 3 or 5, we get 3, 5, 6, and 9. The sum of these multiples is 23.\r\n",
    "\r\n",
    "Find the sum of all the multiples of 3 or 5 below the provided parameter value number.\r\n",
    "\r\n",
    "## Example\r\n",
    "For `number = 10`, the sum of all multiples of 3 or 5 below 10 is 23.\r\n",
    "\r\n",
    "## Instructions\r\n",
    "You are required to implement a function `sumMultiples(number)` that calculates the sum of all the multiples of 3 or 5 below the provided parameter value `number`.\r\n",
    "\r\n",
    "### Input\r\n",
    "- `number`: An integer representing the upper limit (exclusive) for finding multiples of 3 or 5.\r\n",
    "\r\n",
    "### Output\r\n",
    "- The sum of all the multiples of 3 or 5 below the provided `number`.\r\n",
    "\r\n",
    "## Example Usage\r\n",
    "```python\r\n",
    "sumMultiples(10)  # Output: 23\r\n"
   ]
  },
  {
   "cell_type": "code",
   "execution_count": 3,
   "id": "6ae6becb-b02b-4cc2-81e6-731b317cb40d",
   "metadata": {},
   "outputs": [
    {
     "name": "stdout",
     "output_type": "stream",
     "text": [
      "23\n"
     ]
    }
   ],
   "source": [
    "def sumMultiples(number):\n",
    "    total=0\n",
    "    for i in range(number):\n",
    "        if i%3 == 0 or i%5 ==0:\n",
    "            total+=i\n",
    "    return total\n",
    "\n",
    "print(sumMultiples(10))        "
   ]
  },
  {
   "cell_type": "code",
   "execution_count": null,
   "id": "0ecb8ceb-e358-49d9-8c13-56aabb67a998",
   "metadata": {},
   "outputs": [],
   "source": []
  }
 ],
 "metadata": {
  "kernelspec": {
   "display_name": "Python 3 (ipykernel)",
   "language": "python",
   "name": "python3"
  },
  "language_info": {
   "codemirror_mode": {
    "name": "ipython",
    "version": 3
   },
   "file_extension": ".py",
   "mimetype": "text/x-python",
   "name": "python",
   "nbconvert_exporter": "python",
   "pygments_lexer": "ipython3",
   "version": "3.11.5"
  }
 },
 "nbformat": 4,
 "nbformat_minor": 5
}
